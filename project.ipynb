{
 "metadata": {
  "language_info": {
   "codemirror_mode": {
    "name": "ipython",
    "version": 3
   },
   "file_extension": ".py",
   "mimetype": "text/x-python",
   "name": "python",
   "nbconvert_exporter": "python",
   "pygments_lexer": "ipython3",
   "version": "3.8.5"
  },
  "orig_nbformat": 2,
  "kernelspec": {
   "name": "python385jvsc74a57bd004ee5f47cd1c657bf4a7c7634c74bb2fba1408c167e1cd3d93a74d411f89979a",
   "display_name": "Python 3.8.5 64-bit ('base': conda)"
  }
 },
 "nbformat": 4,
 "nbformat_minor": 2,
 "cells": [
  {
   "cell_type": "code",
   "execution_count": null,
   "metadata": {},
   "outputs": [],
   "source": [
    "import pandas as pd\n",
    "import numpy as np\n",
    "from sklearn.model_selection import train_test_split\n",
    "from sklearn.preprocessing import StandardScaler\n",
    "from sklearn.ensemble import RandomForestRegressor\n",
    "from sklearn.pipeline import Pipeline\n",
    "from mpl_toolkits import mplot3d\n",
    "%matplotlib inline\n",
    "import matplotlib.pyplot as plt\n",
    "\n",
    "#import data\n",
    "df = pd.read_csv('data/data.csv')\n",
    "\n",
    "def mse(model, x, y):\n",
    "    '''Mean Square Error'''\n",
    "    return np.mean((y - model.predict(x))**2)\n",
    "\n",
    "#set x and y, drop columns\n",
    "y = df.number_people\n",
    "x = df.drop(columns=['number_people', 'date', 'month', 'is_start_of_semester', 'timestamp', 'is_weekend', 'is_holiday'])\n",
    "z = df.is_start_of_semester\n",
    "\n",
    "#Train test split\n",
    "x_train, x_test, y_train, y_test = train_test_split(x, y, shuffle=True, train_size=0.7, random_state=0)\n",
    "\n",
    "#Scaler\n",
    "#scaler = StandardScaler()\n",
    "#scaler.fit(x_train)\n",
    "#x_train = pd.DataFrame(scaler.transform(x_train), index=x_train.index, columns=x_train.columns)\n",
    "#x_test = pd.DataFrame(scaler.transform(x_test), index=x_test.index, columns=x_test.columns)\n",
    "\n",
    "#Model\n",
    "model = Pipeline([\n",
    "    ('Scale', StandardScaler()),\n",
    "    ('Random Forest', RandomForestRegressor())\n",
    "])\n",
    "\n",
    "model.fit(x_train, y_train)\n",
    "\n",
    "print('R^2:', model.score(x_test, y_test))\n",
    "print('mse:', mse(model, x_test, y_test))"
   ]
  },
  {
   "cell_type": "code",
   "execution_count": null,
   "metadata": {},
   "outputs": [],
   "source": [
    "x.info()"
   ]
  },
  {
   "cell_type": "code",
   "execution_count": null,
   "metadata": {},
   "outputs": [],
   "source": [
    "import plotnine as pn\n",
    "(pn.ggplot(df, pn.aes(x='timestamp', y='number_people', color='number_people')) + pn.geom_point())"
   ]
  },
  {
   "cell_type": "code",
   "execution_count": null,
   "metadata": {},
   "outputs": [],
   "source": [
    "(pn.ggplot(df, pn.aes(x='temperature', y='number_people', color='number_people')) + pn.geom_point())"
   ]
  },
  {
   "cell_type": "code",
   "execution_count": null,
   "metadata": {},
   "outputs": [],
   "source": [
    "(pn.ggplot(df, pn.aes(x='day_of_week', y='number_people', color='number_people')) + pn.geom_point())"
   ]
  },
  {
   "cell_type": "code",
   "execution_count": null,
   "metadata": {},
   "outputs": [],
   "source": [
    "(pn.ggplot(df, pn.aes(x='is_during_semester', y='number_people', color='number_people')) + pn.geom_point())"
   ]
  },
  {
   "cell_type": "code",
   "execution_count": null,
   "metadata": {},
   "outputs": [],
   "source": [
    "fig = plt.figure(\n",
    "\n",
    "ax = fig.add_subplot(projection='3d')\n",
    "\n",
    "ax.set_xlabel('timestamp')\n",
    "ax.set_ylabel('temperature')\n",
    "ax.set_zlabel('number_people')\n",
    "\n",
    "ax.scatter(df.timestamp, df.temperature, df.number_people)\n",
    "\n",
    "plt.show()"
   ]
  },
  {
   "cell_type": "code",
   "execution_count": null,
   "metadata": {},
   "outputs": [],
   "source": []
  }
 ]
}